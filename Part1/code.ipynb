{
 "metadata": {
  "language_info": {
   "codemirror_mode": {
    "name": "ipython",
    "version": 3
   },
   "file_extension": ".py",
   "mimetype": "text/x-python",
   "name": "python",
   "nbconvert_exporter": "python",
   "pygments_lexer": "ipython3",
   "version": "3.9.1-final"
  },
  "orig_nbformat": 2,
  "kernelspec": {
   "name": "python3",
   "display_name": "Python 3.9.1 64-bit",
   "metadata": {
    "interpreter": {
     "hash": "a12d694c3ccac42055183a0ad11e659c6a2db5c6555ad2c8919d5814fd4e404f"
    }
   }
  }
 },
 "nbformat": 4,
 "nbformat_minor": 2,
 "cells": [
  {
   "cell_type": "code",
   "execution_count": 76,
   "metadata": {},
   "outputs": [
    {
     "output_type": "stream",
     "name": "stdout",
     "text": [
      "False\n"
     ]
    }
   ],
   "source": [
    "import sys\n",
    "\n",
    "report = False\n",
    "if sys.argv[1]==\"REPORT\":\n",
    "    report = True\n",
    "print(report)"
   ]
  },
  {
   "cell_type": "code",
   "execution_count": 77,
   "metadata": {},
   "outputs": [
    {
     "output_type": "stream",
     "name": "stdout",
     "text": [
      "2019101004 2019101024\n0.85 1\nFirst Roll Number = 2019101004\nSecond Roll Number = 2019101024\nUsed Roll Number = 2019101004\nValue of x = 0.85\nValue of y = 1\n"
     ]
    }
   ],
   "source": [
    "roll_num_1 = 2019101004 # Ayush Sharma\n",
    "roll_num_2 = 2019101024 # Nitin Chandak\n",
    "\n",
    "last_4_digit_of_roll_no = 1004 # using roll_num_1\n",
    "last_2_digit_of_roll_no = 4    # using roll_num_1\n",
    "\n",
    "x = 1-(((last_4_digit_of_roll_no)%30 + 1)/100)\n",
    "y = (last_2_digit_of_roll_no)%4 + 1\n",
    "\n",
    "print(roll_num_1,roll_num_2)\n",
    "print(x,y)\n",
    "\n",
    "print(\"First Roll Number =\",roll_num_1)\n",
    "print(\"Second Roll Number =\",roll_num_2)\n",
    "print(\"Used Roll Number =\",roll_num_1)\n",
    "print(\"Value of x =\",x)\n",
    "print(\"Value of y =\",y)"
   ]
  },
  {
   "cell_type": "code",
   "execution_count": 78,
   "metadata": {},
   "outputs": [
    {
     "output_type": "stream",
     "name": "stdout",
     "text": [
      "P(Observation = Red|State = Red) =  0.95\nP(Observation = Green|State = Green) =  0.8\nInitial Beliefs (S1 - S6) =  [0.3333333333333333, 0.0, 0.3333333333333333, 0.0, 0.0, 0.3333333333333333]\n"
     ]
    }
   ],
   "source": [
    "p_red = 0.0 \n",
    "p_green = 0.0\n",
    "\n",
    "if y==1:\n",
    "    p_red = 0.95\n",
    "    p_green = 0.8\n",
    "\n",
    "if y==2:\n",
    "    p_red = 0.9\n",
    "    p_green = 0.85\n",
    "\n",
    "if y==3:\n",
    "    p_red = 0.85\n",
    "    p_green = 0.9\n",
    "\n",
    "if y==4:\n",
    "    p_red = 0.8\n",
    "    p_green = 0.95\n",
    "\n",
    "belief = [1/3,0.0,1/3,0.0,0.0,1/3]\n",
    "\n",
    "print(\"P(Observation = Red|State = Red) = \",p_red)\n",
    "print(\"P(Observation = Green|State = Green) = \",p_green)\n",
    "print(\"Initial Beliefs (S1 - S6) = \",belief)"
   ]
  },
  {
   "cell_type": "code",
   "execution_count": 79,
   "metadata": {},
   "outputs": [
    {
     "output_type": "stream",
     "name": "stdout",
     "text": [
      "Action:  1 State:  1 Belief:  0.004545454545454549\nAction:  1 State:  2 Belief:  0.4848484848484848\nAction:  1 State:  3 Belief:  0.0\nAction:  1 State:  4 Belief:  0.4121212121212121\nAction:  1 State:  5 Belief:  0.07272727272727274\nAction:  1 State:  6 Belief:  0.025757575757575778\n\nAction:  2 State:  1 Belief:  0.4702681992337164\nAction:  2 State:  2 Belief:  0.00016227180527383377\nAction:  2 State:  3 Belief:  0.47823304034257386\nAction:  2 State:  4 Belief:  0.014712643678160919\nAction:  2 State:  5 Belief:  0.01992337164750958\nAction:  2 State:  6 Belief:  0.01670047329276539\n\nAction:  3 State:  1 Belief:  0.04108919168788052\nAction:  3 State:  2 Belief:  0.7843076877471088\nAction:  3 State:  3 Belief:  0.0012875596118145343\nAction:  3 State:  4 Belief:  0.14578372629886133\nAction:  3 State:  5 Belief:  0.026967328834887783\nAction:  3 State:  6 Belief:  0.0005645058194470697\n\n"
     ]
    }
   ],
   "source": [
    "for action in range(0,3):\n",
    "    belief_upd = [0.0,0.0,0.0,0.0,0.0,0.0]\n",
    "    if action == 0:\n",
    "        for i in range(0,6):\n",
    "            if i==0:\n",
    "                belief_upd[i] = (1.00-p_red)*((1-x)*belief[0] + (1-x)*(belief[1]))\n",
    "            if i==1:\n",
    "                belief_upd[i] = (p_green)*(x*belief[0] + (1-x)*belief[2])\n",
    "            if i==2:\n",
    "                belief_upd[i] = (1.00-p_red)*(x*belief[1] + (1-x)*belief[3])\n",
    "            if i==3:\n",
    "                belief_upd[i] = (p_green)*(x*belief[2] + (1-x)*belief[4])\n",
    "            if i==4:\n",
    "                belief_upd[i] = (p_green)*(x*belief[3] + (1-x)*belief[5])\n",
    "            if i==5:\n",
    "                belief_upd[i] = (1.00- p_red)*(x*belief[4] + x*belief[5])\n",
    "\n",
    "    if action == 1:\n",
    "        for i in range(0,6):\n",
    "            if i==0:\n",
    "                belief_upd[i] = (p_red)*(x*belief[0] + x*belief[1])\n",
    "            if i==1:\n",
    "                belief_upd[i] = (1.00-p_green)*((1-x)*belief[0] + (x)*belief[2])\n",
    "            if i==2:\n",
    "                belief_upd[i] = (p_red)*((1-x)*belief[1] + (x)*belief[3])\n",
    "            if i==3:\n",
    "                belief_upd[i] = (1.00-p_green)*((1-x)*belief[2] + (x)*belief[4])\n",
    "            if i==4:\n",
    "                belief_upd[i] = (1.00-p_green)*((1-x)*belief[3] + (x)*belief[5])\n",
    "            if i==5:\n",
    "                belief_upd[i] = (p_red)*((1-x)*belief[4] + (1-x)*belief[5])\n",
    "\n",
    "    if action == 2:\n",
    "        for i in range(0,6):\n",
    "            if i==0:\n",
    "                belief_upd[i] = (1.00-p_red)*((x)*belief[0] + (x)*(belief[1]))\n",
    "            if i==1:\n",
    "                belief_upd[i] = (p_green)*((1-x)*belief[0] + (x)*belief[2])\n",
    "            if i==2:\n",
    "                belief_upd[i] = (1.00-p_red)*((1-x)*belief[1] + (x)*belief[3])\n",
    "            if i==3:\n",
    "                belief_upd[i] = (p_green)*((1-x)*belief[2] + (x)*belief[4])\n",
    "            if i==4:\n",
    "                belief_upd[i] = (p_green)*((1-x)*belief[3] + (x)*belief[5])\n",
    "            if i==5:\n",
    "                belief_upd[i] = (1.00- p_red)*((1-x)*belief[4] + (1-x)*belief[5])\n",
    "    const = 0.0\n",
    "    for j in range(0,6):\n",
    "        belief[j] = belief_upd[j]\n",
    "        const += belief[j]\n",
    "    for j in range(0,6):\n",
    "        belief[j] = belief[j]/const\n",
    "        print(\"Action: \",action+1,\"State: \",j+1,\"Belief: \",belief[j])\n",
    "    print()\n"
   ]
  }
 ]
}